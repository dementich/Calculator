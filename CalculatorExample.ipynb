{
 "cells": [
  {
   "cell_type": "markdown",
   "id": "bd272a2a",
   "metadata": {},
   "source": [
    "# Простой пример калькулятора"
   ]
  },
  {
   "cell_type": "code",
   "execution_count": 23,
   "id": "9a928e7a",
   "metadata": {},
   "outputs": [
    {
     "name": "stdout",
     "output_type": "stream",
     "text": [
      "Writing lexerinput.txt\n"
     ]
    }
   ],
   "source": [
    "%%writefile lexerinput.txt\n",
    "\n",
    "# simple example\n",
    "begin\n",
    "    s = 5\n",
    "    t = 1\n",
    "    x = 3 + 42 * (s - t)\n",
    "end"
   ]
  },
  {
   "cell_type": "code",
   "execution_count": 47,
   "id": "e793aa7a",
   "metadata": {},
   "outputs": [
    {
     "name": "stdout",
     "output_type": "stream",
     "text": [
      "Overwriting calclex.py\n"
     ]
    }
   ],
   "source": [
    "%%writefile calclex.py\n",
    "\n",
    "import ply.lex as lex\n",
    "import sys\n",
    "\n",
    "reserved = {'begin': 'BEGIN', 'end': 'END', 'if' : 'IF', 'then' : 'THEN', 'else' : 'ELSE', 'while' : 'WHILE'}\n",
    "\n",
    "tokens = ['ID', 'EQUALS', 'NUMBER', 'PLUS', 'MINUS', 'TIMES', 'DIVIDE', 'LPAREN', 'RPAREN', 'COMMENT'] + list(reserved.values())\n",
    "\n",
    "def get_lexer():\n",
    "    t_EQUALS  = r'\\='\n",
    "    t_PLUS    = r'\\+'\n",
    "    t_MINUS   = r'-'\n",
    "    t_TIMES   = r'\\*'\n",
    "    t_DIVIDE  = r'/'\n",
    "    t_LPAREN  = r'\\('\n",
    "    t_RPAREN  = r'\\)'\n",
    "    t_ignore  = ' \\t'\n",
    "    t_ignore_COMMENT = r'\\#.*'\n",
    "    \n",
    "    def t_ID(token):\n",
    "        r'[A-Za-z_][A-Za-z_0-9]*'\n",
    "        token.type = reserved.get(token.value, 'ID')\n",
    "        return token\n",
    "    \n",
    "    def t_NUMBER(token):\n",
    "        r'\\d+'\n",
    "        token.value = int(token.value)\n",
    "        return token\n",
    "    \n",
    "    def t_newline(token):\n",
    "        r'\\n+'\n",
    "        token.lexer.lineno += len(token.value)\n",
    "    \n",
    "    def t_error(token):\n",
    "        print(f'Illegal character: {token.value[0]}')\n",
    "        token.lexer.skip(1)\n",
    "        \n",
    "    return lex.lex(debug=0)\n",
    "\n",
    "def raw_input(code):\n",
    "    lexer = get_lexer()\n",
    "    lexer.input(code)\n",
    "    for token in lexer:\n",
    "        print(token)\n",
    "\n",
    "if __name__ == '__main__':\n",
    "    with open(sys.argv[1]) as src:\n",
    "        raw_input(src.read())"
   ]
  },
  {
   "cell_type": "code",
   "execution_count": 48,
   "id": "b2d03e84",
   "metadata": {},
   "outputs": [
    {
     "name": "stdout",
     "output_type": "stream",
     "text": [
      "LexToken(BEGIN,'begin',3,18)\n",
      "LexToken(ID,'s',4,28)\n",
      "LexToken(EQUALS,'=',4,30)\n",
      "LexToken(NUMBER,5,4,32)\n",
      "LexToken(ID,'t',5,38)\n",
      "LexToken(EQUALS,'=',5,40)\n",
      "LexToken(NUMBER,1,5,42)\n",
      "LexToken(ID,'x',6,48)\n",
      "LexToken(EQUALS,'=',6,50)\n",
      "LexToken(NUMBER,3,6,52)\n",
      "LexToken(PLUS,'+',6,54)\n",
      "LexToken(NUMBER,42,6,56)\n",
      "LexToken(TIMES,'*',6,59)\n",
      "LexToken(LPAREN,'(',6,61)\n",
      "LexToken(ID,'s',6,62)\n",
      "LexToken(MINUS,'-',6,64)\n",
      "LexToken(ID,'t',6,66)\n",
      "LexToken(RPAREN,')',6,67)\n",
      "LexToken(END,'end',7,69)\n"
     ]
    }
   ],
   "source": [
    "%%bash\n",
    "\n",
    "python3 calclex.py lexerinput.txt"
   ]
  },
  {
   "cell_type": "code",
   "execution_count": 49,
   "id": "f4ad234c",
   "metadata": {},
   "outputs": [
    {
     "name": "stdout",
     "output_type": "stream",
     "text": [
      "Overwriting parserinput.txt\n"
     ]
    }
   ],
   "source": [
    "%%writefile parserinput.txt\n",
    "\n",
    "# simple example\n",
    "3 + 42 * (5 - 1)"
   ]
  },
  {
   "cell_type": "code",
   "execution_count": 50,
   "id": "632735ab",
   "metadata": {},
   "outputs": [
    {
     "name": "stdout",
     "output_type": "stream",
     "text": [
      "Overwriting calcparse.py\n"
     ]
    }
   ],
   "source": [
    "%%writefile calcparse.py\n",
    "\n",
    "import ply.yacc as yacc\n",
    "import sys\n",
    "\n",
    "from calclex import tokens, get_lexer\n",
    "\n",
    "def get_parser():\n",
    "    \n",
    "    def p_expression_plus(p):\n",
    "        'expression : expression PLUS term'\n",
    "        p[0] = p[1] + p[3]\n",
    "    \n",
    "    def p_expression_minus(p):\n",
    "        'expression : expression MINUS term'\n",
    "        p[0] = p[1] - p[3]\n",
    "    \n",
    "    def p_expression_term(p):\n",
    "        'expression : term'\n",
    "        p[0] = p[1]\n",
    "    \n",
    "    def p_term_times(p):\n",
    "        'term : term TIMES factor'\n",
    "        p[0] = p[1] * p[3]\n",
    "    \n",
    "    def p_term_div(p):\n",
    "        'term : term DIVIDE factor'\n",
    "        p[0] = p[1] / p[3]\n",
    "    \n",
    "    def p_term_factor(p):\n",
    "        'term : factor'\n",
    "        p[0] = p[1]\n",
    "    \n",
    "    def p_factor_num(p):\n",
    "        'factor : NUMBER'\n",
    "        p[0] = p[1]\n",
    "    \n",
    "    def p_factor_expr(p):\n",
    "        'factor : LPAREN expression RPAREN'\n",
    "        p[0] = p[2]\n",
    "    \n",
    "    # Error rule for syntax errors\n",
    "    def p_error(p):\n",
    "        print(\"Syntax error in input!\")\n",
    "        \n",
    "    return yacc.yacc(debug=1)\n",
    "\n",
    "def parse_code(code):\n",
    "    #parser = yacc.yacc(debug=1)\n",
    "    parser = get_parser()\n",
    "    result = parser.parse(code, lexer=get_lexer())\n",
    "    print(result)\n",
    "\n",
    "if __name__ == '__main__':\n",
    "    with open(sys.argv[1]) as src:\n",
    "        parse_code(src.read())"
   ]
  },
  {
   "cell_type": "code",
   "execution_count": 51,
   "id": "831ceacd",
   "metadata": {},
   "outputs": [
    {
     "name": "stdout",
     "output_type": "stream",
     "text": [
      "171\n"
     ]
    }
   ],
   "source": [
    "%%bash\n",
    "\n",
    "python3 calcparse.py parserinput.txt"
   ]
  },
  {
   "cell_type": "code",
   "execution_count": 89,
   "id": "564bab23",
   "metadata": {},
   "outputs": [
    {
     "name": "stdout",
     "output_type": "stream",
     "text": [
      "Overwriting calctree.py\n"
     ]
    }
   ],
   "source": [
    "%%writefile calctree.py\n",
    "\n",
    "import ply.yacc as yacc\n",
    "import sys\n",
    "\n",
    "from calclex import tokens, get_lexer\n",
    "\n",
    "class Expr: pass\n",
    " \n",
    "class BinOp(Expr):\n",
    "    def __init__(self, left, op, right):\n",
    "        self.type = \"binop\"\n",
    "        self.left = left\n",
    "        self.right = right\n",
    "        self.op = op\n",
    "\n",
    "class Number(Expr):\n",
    "    def __init__(self,value):\n",
    "        self.type = \"number\"\n",
    "        self.value = value\n",
    "\n",
    "def get_parser():\n",
    "    def p_expression_binop(p):\n",
    "        '''expression : expression PLUS expression\n",
    "                   | expression MINUS expression\n",
    "                   | expression TIMES expression\n",
    "                   | expression DIVIDE expression'''\n",
    "        p[0] = BinOp(p[1], p[2], p[3])\n",
    " \n",
    "    def p_expression_group(p):\n",
    "        'expression : LPAREN expression RPAREN'\n",
    "        p[0] = p[2]\n",
    " \n",
    "    def p_expression_number(p):\n",
    "        'expression : NUMBER'\n",
    "        p[0] = Number(p[1])\n",
    "        \n",
    "    return yacc.yacc(debug=1)\n",
    "\n",
    "def print_result(op, nestingness=0):\n",
    "    #new_line_mark = '|' if nestingness > 0 else ''\n",
    "    new_line_mark = ''\n",
    "    if isinstance(op, Number):\n",
    "        print(new_line_mark + '-' * nestingness + str(op.value))\n",
    "    elif isinstance(op, BinOp):\n",
    "        print(new_line_mark + '-' * nestingness + op.op)\n",
    "        print_result(op.left, nestingness + 1)\n",
    "        print_result(op.right, nestingness + 1)\n",
    "\n",
    "def parse_code(code):\n",
    "    parser = get_parser()\n",
    "    result = parser.parse(code, lexer=get_lexer())\n",
    "    print_result(result)\n",
    "\n",
    "if __name__ == '__main__':\n",
    "    with open(sys.argv[1]) as src:\n",
    "        parse_code(src.read())"
   ]
  },
  {
   "cell_type": "code",
   "execution_count": 90,
   "id": "b1b41d5e",
   "metadata": {},
   "outputs": [
    {
     "name": "stdout",
     "output_type": "stream",
     "text": [
      "+\n",
      "-3\n",
      "-*\n",
      "--42\n",
      "---\n",
      "---5\n",
      "---1\n"
     ]
    }
   ],
   "source": [
    "%%bash\n",
    "\n",
    "python3 calctree.py parserinput.txt"
   ]
  }
 ],
 "metadata": {
  "kernelspec": {
   "display_name": "Python 3 (ipykernel)",
   "language": "python",
   "name": "python3"
  },
  "language_info": {
   "codemirror_mode": {
    "name": "ipython",
    "version": 3
   },
   "file_extension": ".py",
   "mimetype": "text/x-python",
   "name": "python",
   "nbconvert_exporter": "python",
   "pygments_lexer": "ipython3",
   "version": "3.9.6"
  }
 },
 "nbformat": 4,
 "nbformat_minor": 5
}
